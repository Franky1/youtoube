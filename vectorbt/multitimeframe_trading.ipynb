{
 "cells": [
  {
   "cell_type": "code",
   "execution_count": 21,
   "metadata": {},
   "outputs": [],
   "source": [
    "import os\n",
    "cwd = os.getcwd().replace('/vectorbt', '')\n",
    "os.chdir(cwd)"
   ]
  },
  {
   "cell_type": "code",
   "execution_count": 22,
   "metadata": {},
   "outputs": [],
   "source": [
    "import pandas as pd\n",
    "import numpy as np\n",
    "import vectorbt as vbt\n",
    "vbt.settings.set_theme('dark')\n"
   ]
  },
  {
   "cell_type": "markdown",
   "metadata": {},
   "source": [
    "### Upload dataset"
   ]
  },
  {
   "cell_type": "code",
   "execution_count": 23,
   "metadata": {},
   "outputs": [],
   "source": [
    "dataset = pd.read_csv('data/dataset_5m_180day_tickers.csv' , index_col=0)\n",
    "dataset.index = pd.to_datetime(dataset.index)"
   ]
  },
  {
   "cell_type": "markdown",
   "metadata": {},
   "source": [
    "### Resample dataset"
   ]
  },
  {
   "cell_type": "code",
   "execution_count": 48,
   "metadata": {},
   "outputs": [],
   "source": [
    "close = dataset.copy()\\\n",
    "    .groupby('symbol')['close']\\\n",
    "    .resample('5Min')\\\n",
    "    .last()\\\n",
    "    .unstack()\\\n",
    "    .T\n",
    "\n",
    "close_15m = dataset.copy().\\\n",
    "    groupby('symbol')['close']\\\n",
    "    .resample('15Min')\\\n",
    "    .last()\\\n",
    "    .unstack()\\\n",
    "    .T\n",
    "close_1h = dataset.copy().\\\n",
    "    groupby('symbol')['close']\\\n",
    "    .resample('60Min')\\\n",
    "    .last()\\\n",
    "    .unstack()\\\n",
    "    .T\n",
    "\n",
    "close_1d = dataset.copy().\\\n",
    "    groupby('symbol')['close']\\\n",
    "    .resample('1d')\\\n",
    "    .last()\\\n",
    "    .unstack()\\\n",
    "    .T"
   ]
  },
  {
   "cell_type": "markdown",
   "metadata": {},
   "source": [
    "#### Working with indicators\n",
    "* Create indicators for each timeframe\n",
    "* Join tables using *align* method from pandas"
   ]
  },
  {
   "cell_type": "code",
   "execution_count": 49,
   "metadata": {},
   "outputs": [],
   "source": [
    "rsi_15m = vbt.RSI.run(close_15m, window=14, short_name='RSI').rsi\n",
    "rsi_15m, _ = rsi_15m.align(close, broadcast_axis=0,\n",
    "                           method='ffill', join='right')\n",
    "\n",
    "rsi_1h = vbt.RSI.run(close_1h, window=14, short_name='RSI').rsi\n",
    "rsi_1h, _ = rsi_1h.align(close, broadcast_axis=0, method='ffill', join='right')\n",
    "\n",
    "rsi_1d = vbt.RSI.run(close_1d, window=14, short_name='RSI').rsi\n",
    "rsi_1d, _ = rsi_1d.align(close, broadcast_axis=0, method='ffill', join='right')"
   ]
  },
  {
   "cell_type": "markdown",
   "metadata": {},
   "source": [
    "#### Define trading logic\n",
    "* Create datafrmame shape with signal 0\n",
    "* Define signal of trading logic"
   ]
  },
  {
   "cell_type": "code",
   "execution_count": 53,
   "metadata": {},
   "outputs": [],
   "source": [
    "signal = rsi_15m.copy().applymap(lambda x: 0)\n",
    "signal[\n",
    "    (rsi_15m < 20) &\n",
    "    (rsi_1h < 20) &\n",
    "    (rsi_1d < 30)\n",
    "] = 1\n",
    "signal[\n",
    "    (rsi_15m > 80) &\n",
    "    (rsi_1h > 80) &\n",
    "    (rsi_1d > 70)\n",
    "] = -1\n"
   ]
  },
  {
   "cell_type": "markdown",
   "metadata": {},
   "source": [
    "#### Backtesting strategy"
   ]
  },
  {
   "cell_type": "code",
   "execution_count": 54,
   "metadata": {},
   "outputs": [
    {
     "data": {
      "application/vnd.jupyter.widget-view+json": {
       "model_id": "682106f328be4eefac29ba05f09aa6ea",
       "version_major": 2,
       "version_minor": 0
      },
      "text/plain": [
       "FigureWidget({\n",
       "    'data': [{'name': 'total_return',\n",
       "              'showlegend': True,\n",
       "              'type': '…"
      ]
     },
     "metadata": {},
     "output_type": "display_data"
    }
   ],
   "source": [
    "entries = np.where(signal == 1, True, False)\n",
    "exits = np.where(signal == -1, True, False)\n",
    "\n",
    "entries_short = np.where(signal == -1, True, False)\n",
    "exits_short = np.where(signal == 1, True, False)\n",
    "pf = vbt.Portfolio.from_signals(\n",
    "    close=close,\n",
    "    entries=entries,\n",
    "    exits=exits,\n",
    "    short_entries=entries_short,\n",
    "    short_exits=exits_short,\n",
    "    fees=0.001  \n",
    ")\n",
    "max_return = pf.total_return().groupby('symbol').max()\n",
    "max_return.vbt.barplot(xaxis_title='Symbol',\n",
    "                       yaxis_title='Max total return', height=400, width=1700)\n"
   ]
  },
  {
   "cell_type": "code",
   "execution_count": null,
   "metadata": {},
   "outputs": [],
   "source": []
  }
 ],
 "metadata": {
  "interpreter": {
   "hash": "99dcc870c74deeceac456093fcce74b742d72a6bb0935dd9d5bc57cc2f50e42f"
  },
  "kernelspec": {
   "display_name": "Python 3.9.12 ('VECTOR')",
   "language": "python",
   "name": "python3"
  },
  "language_info": {
   "codemirror_mode": {
    "name": "ipython",
    "version": 3
   },
   "file_extension": ".py",
   "mimetype": "text/x-python",
   "name": "python",
   "nbconvert_exporter": "python",
   "pygments_lexer": "ipython3",
   "version": "3.9.12"
  },
  "orig_nbformat": 4
 },
 "nbformat": 4,
 "nbformat_minor": 2
}
