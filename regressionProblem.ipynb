{
 "cells": [
  {
   "cell_type": "code",
   "execution_count": 22,
   "metadata": {},
   "outputs": [],
   "source": [
    "from dataset import Dataset\n",
    "from sklearn.preprocessing import StandardScaler\n",
    "from sklearn.linear_model import LinearRegression\n",
    "from sklearn.metrics import mean_squared_error, r2_score\n",
    "from sklearn.preprocessing import PolynomialFeatures\n",
    "from matplotlib import pyplot as plt\n",
    "import pandas as pd\n",
    "import numpy as np"
   ]
  },
  {
   "cell_type": "markdown",
   "metadata": {},
   "source": [
    "#### DEFINE PARAMETERS"
   ]
  },
  {
   "cell_type": "code",
   "execution_count": 2,
   "metadata": {},
   "outputs": [],
   "source": [
    "TICKERS = ['BTCUSDT', 'ETHUSDT', 'LTCUSDT',\n",
    "           'BNBUSDT', 'ADAUSDT', 'XRPUSDT', 'DOTUSDT']\n",
    "DAYS = 30\n",
    "TIMEFRAME = '5m'\n",
    "SPLIT = 0.8"
   ]
  },
  {
   "cell_type": "markdown",
   "metadata": {},
   "source": [
    "#### Download Dataset"
   ]
  },
  {
   "cell_type": "code",
   "execution_count": 3,
   "metadata": {},
   "outputs": [],
   "source": [
    "dataset = Dataset().get_datas(days=DAYS, tickers=TICKERS, ts=TIMEFRAME)"
   ]
  },
  {
   "cell_type": "markdown",
   "metadata": {},
   "source": [
    "#### Check Dataset"
   ]
  },
  {
   "cell_type": "code",
   "execution_count": 4,
   "metadata": {},
   "outputs": [
    {
     "data": {
      "text/html": [
       "<div>\n",
       "<style scoped>\n",
       "    .dataframe tbody tr th:only-of-type {\n",
       "        vertical-align: middle;\n",
       "    }\n",
       "\n",
       "    .dataframe tbody tr th {\n",
       "        vertical-align: top;\n",
       "    }\n",
       "\n",
       "    .dataframe thead th {\n",
       "        text-align: right;\n",
       "    }\n",
       "</style>\n",
       "<table border=\"1\" class=\"dataframe\">\n",
       "  <thead>\n",
       "    <tr style=\"text-align: right;\">\n",
       "      <th></th>\n",
       "      <th></th>\n",
       "      <th>open</th>\n",
       "      <th>high</th>\n",
       "      <th>low</th>\n",
       "      <th>close</th>\n",
       "      <th>volume</th>\n",
       "      <th>symbol</th>\n",
       "      <th>dayOfYear</th>\n",
       "    </tr>\n",
       "    <tr>\n",
       "      <th>symbol</th>\n",
       "      <th>time</th>\n",
       "      <th></th>\n",
       "      <th></th>\n",
       "      <th></th>\n",
       "      <th></th>\n",
       "      <th></th>\n",
       "      <th></th>\n",
       "      <th></th>\n",
       "    </tr>\n",
       "  </thead>\n",
       "  <tbody>\n",
       "    <tr>\n",
       "      <th rowspan=\"2\" valign=\"top\">ADAUSDT</th>\n",
       "      <th>2022-04-21 08:35:00</th>\n",
       "      <td>0.9510</td>\n",
       "      <td>0.9510</td>\n",
       "      <td>0.9490</td>\n",
       "      <td>0.9490</td>\n",
       "      <td>123276.00000</td>\n",
       "      <td>ADAUSDT</td>\n",
       "      <td>111</td>\n",
       "    </tr>\n",
       "    <tr>\n",
       "      <th>2022-04-21 08:40:00</th>\n",
       "      <td>0.9490</td>\n",
       "      <td>0.9500</td>\n",
       "      <td>0.9470</td>\n",
       "      <td>0.9480</td>\n",
       "      <td>269408.70000</td>\n",
       "      <td>ADAUSDT</td>\n",
       "      <td>111</td>\n",
       "    </tr>\n",
       "    <tr>\n",
       "      <th rowspan=\"2\" valign=\"top\">BNBUSDT</th>\n",
       "      <th>2022-04-21 08:35:00</th>\n",
       "      <td>420.7000</td>\n",
       "      <td>421.1000</td>\n",
       "      <td>420.1000</td>\n",
       "      <td>420.8000</td>\n",
       "      <td>2429.39500</td>\n",
       "      <td>BNBUSDT</td>\n",
       "      <td>111</td>\n",
       "    </tr>\n",
       "    <tr>\n",
       "      <th>2022-04-21 08:40:00</th>\n",
       "      <td>420.9000</td>\n",
       "      <td>421.0000</td>\n",
       "      <td>420.4000</td>\n",
       "      <td>420.4000</td>\n",
       "      <td>1122.03600</td>\n",
       "      <td>BNBUSDT</td>\n",
       "      <td>111</td>\n",
       "    </tr>\n",
       "    <tr>\n",
       "      <th rowspan=\"2\" valign=\"top\">BTCUSDT</th>\n",
       "      <th>2022-04-21 08:35:00</th>\n",
       "      <td>41882.2500</td>\n",
       "      <td>41938.4600</td>\n",
       "      <td>41830.9400</td>\n",
       "      <td>41909.7200</td>\n",
       "      <td>228.02268</td>\n",
       "      <td>BTCUSDT</td>\n",
       "      <td>111</td>\n",
       "    </tr>\n",
       "    <tr>\n",
       "      <th>2022-04-21 08:40:00</th>\n",
       "      <td>41909.7300</td>\n",
       "      <td>41930.0000</td>\n",
       "      <td>41890.0000</td>\n",
       "      <td>41929.9900</td>\n",
       "      <td>83.44531</td>\n",
       "      <td>BTCUSDT</td>\n",
       "      <td>111</td>\n",
       "    </tr>\n",
       "    <tr>\n",
       "      <th rowspan=\"2\" valign=\"top\">DOTUSDT</th>\n",
       "      <th>2022-04-21 08:35:00</th>\n",
       "      <td>19.2600</td>\n",
       "      <td>19.2900</td>\n",
       "      <td>19.2300</td>\n",
       "      <td>19.2700</td>\n",
       "      <td>5515.73000</td>\n",
       "      <td>DOTUSDT</td>\n",
       "      <td>111</td>\n",
       "    </tr>\n",
       "    <tr>\n",
       "      <th>2022-04-21 08:40:00</th>\n",
       "      <td>19.2800</td>\n",
       "      <td>19.2800</td>\n",
       "      <td>19.2300</td>\n",
       "      <td>19.2400</td>\n",
       "      <td>8498.52000</td>\n",
       "      <td>DOTUSDT</td>\n",
       "      <td>111</td>\n",
       "    </tr>\n",
       "    <tr>\n",
       "      <th rowspan=\"2\" valign=\"top\">ETHUSDT</th>\n",
       "      <th>2022-04-21 08:35:00</th>\n",
       "      <td>3099.3000</td>\n",
       "      <td>3103.5600</td>\n",
       "      <td>3094.8600</td>\n",
       "      <td>3100.5400</td>\n",
       "      <td>1357.04630</td>\n",
       "      <td>ETHUSDT</td>\n",
       "      <td>111</td>\n",
       "    </tr>\n",
       "    <tr>\n",
       "      <th>2022-04-21 08:40:00</th>\n",
       "      <td>3100.5500</td>\n",
       "      <td>3101.6900</td>\n",
       "      <td>3097.8400</td>\n",
       "      <td>3098.7400</td>\n",
       "      <td>519.33820</td>\n",
       "      <td>ETHUSDT</td>\n",
       "      <td>111</td>\n",
       "    </tr>\n",
       "    <tr>\n",
       "      <th rowspan=\"2\" valign=\"top\">LTCUSDT</th>\n",
       "      <th>2022-04-21 08:35:00</th>\n",
       "      <td>111.0000</td>\n",
       "      <td>111.2000</td>\n",
       "      <td>110.9000</td>\n",
       "      <td>111.0000</td>\n",
       "      <td>573.77400</td>\n",
       "      <td>LTCUSDT</td>\n",
       "      <td>111</td>\n",
       "    </tr>\n",
       "    <tr>\n",
       "      <th>2022-04-21 08:40:00</th>\n",
       "      <td>111.0000</td>\n",
       "      <td>111.2000</td>\n",
       "      <td>111.0000</td>\n",
       "      <td>111.1000</td>\n",
       "      <td>656.32100</td>\n",
       "      <td>LTCUSDT</td>\n",
       "      <td>111</td>\n",
       "    </tr>\n",
       "    <tr>\n",
       "      <th rowspan=\"2\" valign=\"top\">XRPUSDT</th>\n",
       "      <th>2022-04-21 08:35:00</th>\n",
       "      <td>0.7495</td>\n",
       "      <td>0.7496</td>\n",
       "      <td>0.7483</td>\n",
       "      <td>0.7490</td>\n",
       "      <td>611347.00000</td>\n",
       "      <td>XRPUSDT</td>\n",
       "      <td>111</td>\n",
       "    </tr>\n",
       "    <tr>\n",
       "      <th>2022-04-21 08:40:00</th>\n",
       "      <td>0.7490</td>\n",
       "      <td>0.7493</td>\n",
       "      <td>0.7482</td>\n",
       "      <td>0.7485</td>\n",
       "      <td>577340.00000</td>\n",
       "      <td>XRPUSDT</td>\n",
       "      <td>111</td>\n",
       "    </tr>\n",
       "  </tbody>\n",
       "</table>\n",
       "</div>"
      ],
      "text/plain": [
       "                                   open        high         low       close  \\\n",
       "symbol  time                                                                  \n",
       "ADAUSDT 2022-04-21 08:35:00      0.9510      0.9510      0.9490      0.9490   \n",
       "        2022-04-21 08:40:00      0.9490      0.9500      0.9470      0.9480   \n",
       "BNBUSDT 2022-04-21 08:35:00    420.7000    421.1000    420.1000    420.8000   \n",
       "        2022-04-21 08:40:00    420.9000    421.0000    420.4000    420.4000   \n",
       "BTCUSDT 2022-04-21 08:35:00  41882.2500  41938.4600  41830.9400  41909.7200   \n",
       "        2022-04-21 08:40:00  41909.7300  41930.0000  41890.0000  41929.9900   \n",
       "DOTUSDT 2022-04-21 08:35:00     19.2600     19.2900     19.2300     19.2700   \n",
       "        2022-04-21 08:40:00     19.2800     19.2800     19.2300     19.2400   \n",
       "ETHUSDT 2022-04-21 08:35:00   3099.3000   3103.5600   3094.8600   3100.5400   \n",
       "        2022-04-21 08:40:00   3100.5500   3101.6900   3097.8400   3098.7400   \n",
       "LTCUSDT 2022-04-21 08:35:00    111.0000    111.2000    110.9000    111.0000   \n",
       "        2022-04-21 08:40:00    111.0000    111.2000    111.0000    111.1000   \n",
       "XRPUSDT 2022-04-21 08:35:00      0.7495      0.7496      0.7483      0.7490   \n",
       "        2022-04-21 08:40:00      0.7490      0.7493      0.7482      0.7485   \n",
       "\n",
       "                                   volume   symbol  dayOfYear  \n",
       "symbol  time                                                   \n",
       "ADAUSDT 2022-04-21 08:35:00  123276.00000  ADAUSDT        111  \n",
       "        2022-04-21 08:40:00  269408.70000  ADAUSDT        111  \n",
       "BNBUSDT 2022-04-21 08:35:00    2429.39500  BNBUSDT        111  \n",
       "        2022-04-21 08:40:00    1122.03600  BNBUSDT        111  \n",
       "BTCUSDT 2022-04-21 08:35:00     228.02268  BTCUSDT        111  \n",
       "        2022-04-21 08:40:00      83.44531  BTCUSDT        111  \n",
       "DOTUSDT 2022-04-21 08:35:00    5515.73000  DOTUSDT        111  \n",
       "        2022-04-21 08:40:00    8498.52000  DOTUSDT        111  \n",
       "ETHUSDT 2022-04-21 08:35:00    1357.04630  ETHUSDT        111  \n",
       "        2022-04-21 08:40:00     519.33820  ETHUSDT        111  \n",
       "LTCUSDT 2022-04-21 08:35:00     573.77400  LTCUSDT        111  \n",
       "        2022-04-21 08:40:00     656.32100  LTCUSDT        111  \n",
       "XRPUSDT 2022-04-21 08:35:00  611347.00000  XRPUSDT        111  \n",
       "        2022-04-21 08:40:00  577340.00000  XRPUSDT        111  "
      ]
     },
     "execution_count": 4,
     "metadata": {},
     "output_type": "execute_result"
    }
   ],
   "source": [
    "data = dataset.copy()\n",
    "data['dayOfYear'] = data.index.dayofyear\n",
    "data.groupby('symbol')\\\n",
    "    .apply(lambda x: x.tail(2))"
   ]
  },
  {
   "cell_type": "markdown",
   "metadata": {},
   "source": [
    "#### Processing Dataset"
   ]
  },
  {
   "cell_type": "code",
   "execution_count": 5,
   "metadata": {},
   "outputs": [
    {
     "name": "stdout",
     "output_type": "stream",
     "text": [
      "                           open        high         low       close  \\\n",
      "time                                                                  \n",
      "2022-03-22 00:05:00      0.9170      0.9220      0.9120      0.9130   \n",
      "2022-03-22 00:05:00    396.0000    396.3000    395.4000    395.5000   \n",
      "2022-03-22 00:05:00  41002.2600  41025.0100  40959.3700  40964.5600   \n",
      "2022-03-22 00:05:00     18.7500     18.7600     18.7000     18.7000   \n",
      "2022-03-22 00:05:00   2890.0300   2895.0700   2886.4300   2889.3400   \n",
      "2022-03-22 00:05:00    116.1000    116.2000    115.8000    115.9000   \n",
      "2022-03-22 00:05:00      0.8372      0.8436      0.8366      0.8391   \n",
      "\n",
      "                           volume   symbol  dayOfYear      target  \n",
      "time                                                               \n",
      "2022-03-22 00:05:00  1.863204e+06  ADAUSDT         81      0.9150  \n",
      "2022-03-22 00:05:00  1.690082e+03  BNBUSDT         81    396.1000  \n",
      "2022-03-22 00:05:00  2.307740e+02  BTCUSDT         81  41003.4400  \n",
      "2022-03-22 00:05:00  1.258847e+04  DOTUSDT         81     18.7300  \n",
      "2022-03-22 00:05:00  1.594212e+03  ETHUSDT         81   2895.4400  \n",
      "2022-03-22 00:05:00  1.172907e+03  LTCUSDT         81    116.1000  \n",
      "2022-03-22 00:05:00  2.556471e+06  XRPUSDT         81      0.8438  \n"
     ]
    }
   ],
   "source": [
    "df = data.groupby('symbol')\\\n",
    "    .apply(lambda x: x)\\\n",
    "    .assign(target=lambda x: x['close'].shift(-1))\\\n",
    "    .groupby('dayOfYear')\\\n",
    "    .apply(lambda x: x)\\\n",
    "    .dropna()\n",
    "print(df.head(len(TICKERS)))"
   ]
  },
  {
   "cell_type": "markdown",
   "metadata": {},
   "source": [
    "### Split Dataset on train and test data"
   ]
  },
  {
   "cell_type": "code",
   "execution_count": 6,
   "metadata": {},
   "outputs": [],
   "source": [
    "\n",
    "unique_days = df.dayOfYear.unique()\n",
    "train_days = unique_days[:int(len(unique_days) * SPLIT)]\n",
    "test_days = unique_days[int(len(unique_days) * SPLIT):]\n",
    "train = df[df.dayOfYear.isin(train_days)]\n",
    "test = df[df.dayOfYear.isin(test_days)]"
   ]
  },
  {
   "cell_type": "code",
   "execution_count": 7,
   "metadata": {},
   "outputs": [
    {
     "name": "stdout",
     "output_type": "stream",
     "text": [
      "train days: (48377, 5)\n",
      "test days: (12830, 5)\n"
     ]
    }
   ],
   "source": [
    "X_train = train.drop(['target', 'dayOfYear', 'symbol'], axis=1)\n",
    "y_train = train['target']\n",
    "X_test = test.drop(['target', 'dayOfYear', 'symbol'], axis=1)\n",
    "y_test = test['target']\n",
    "print('train days:', X_train.values.shape)\n",
    "print('test days:', X_test.values.shape)"
   ]
  },
  {
   "cell_type": "markdown",
   "metadata": {},
   "source": [
    "#### Data Transformation\n",
    "*Rescaling (MinMaxScaler)* - Converts data to a single scale that is between 0 and 1. Increases computational speed for algorithms.\n",
    "\n",
    "*Standardization (StandardScaler)* - Transforms the data so that it is normally distributed with a mean of 0. Often helps to increase the accuracy of algorithms.\n",
    "\n",
    "*Normalization (Normalizer)* - Normalization refers to rescaling each observation (row) to have a length of one (called a unit norm or a vector). Thi*s preprocessing method can be useful for sparse datasets of attributes of varying scales when using algorithms that weight input values."
   ]
  },
  {
   "cell_type": "code",
   "execution_count": 12,
   "metadata": {},
   "outputs": [],
   "source": [
    "scaler = StandardScaler().fit(X_train)\n",
    "standardised_X_train = pd.DataFrame(scaler.fit_transform(X_train))\n",
    "standardised_X_test = pd.DataFrame(scaler.transform(X_test))\n"
   ]
  },
  {
   "cell_type": "markdown",
   "metadata": {},
   "source": [
    "#### Create Base model"
   ]
  },
  {
   "cell_type": "code",
   "execution_count": 20,
   "metadata": {},
   "outputs": [
    {
     "name": "stdout",
     "output_type": "stream",
     "text": [
      "RMSE for Linear Regression: 25.630953555225414\n"
     ]
    }
   ],
   "source": [
    "model = LinearRegression()\n",
    "model.fit(standardised_X_train, y_train)\n",
    "y_pred = model.predict(standardised_X_train)\n",
    "rmse_lin = np.sqrt(mean_squared_error(y_train, y_pred))\n",
    "r2_lin = r2_score(y_train, y_pred)\n",
    "print(\"RMSE for Linear Regression:\", rmse_lin)"
   ]
  },
  {
   "cell_type": "markdown",
   "metadata": {},
   "source": [
    "### Improve model\n",
    "The primary assumption of Polynomial Regression is that there might exist a non-linear relationship between the features (independent variables) and the target (dependent variable). It is also used when the linear model is unable to capture the trend in the data and gives a poor R² score."
   ]
  },
  {
   "cell_type": "code",
   "execution_count": 21,
   "metadata": {},
   "outputs": [
    {
     "name": "stdout",
     "output_type": "stream",
     "text": [
      "RMSE for Polynomial Regression: 25.552984049058818\n"
     ]
    }
   ],
   "source": [
    "polynomial_features = PolynomialFeatures(degree=2)\n",
    "x_poly = polynomial_features.fit_transform(X_train)\n",
    "model = LinearRegression()\n",
    "model.fit(x_poly, y_train)\n",
    "y_poly_pred = model.predict(x_poly)\n",
    "rmse = np.sqrt(mean_squared_error(y_train, y_poly_pred))\n",
    "r2 = r2_score(y_train, y_poly_pred)\n",
    "print(\"RMSE for Polynomial Regression:\", rmse)\n"
   ]
  },
  {
   "cell_type": "markdown",
   "metadata": {},
   "source": [
    "#### Tuning model"
   ]
  },
  {
   "cell_type": "code",
   "execution_count": 29,
   "metadata": {},
   "outputs": [
    {
     "data": {
      "text/plain": [
       "Text(0.5, 0.98, 'Algorithm Comparison')"
      ]
     },
     "execution_count": 29,
     "metadata": {},
     "output_type": "execute_result"
    },
    {
     "data": {
      "image/png": "[encoded data removed]",
      "text/plain": [
       "<Figure size 432x288 with 1 Axes>"
      ]
     },
     "metadata": {
      "needs_background": "light"
     },
     "output_type": "display_data"
    }
   ],
   "source": [
    "params = np.arange(1, 11)\n",
    "results = []\n",
    "names = []\n",
    "for deg in params:\n",
    "    polynomial_features = PolynomialFeatures(degree=deg)\n",
    "    x_poly = polynomial_features.fit_transform(standardised_X_train)\n",
    "    model = LinearRegression()\n",
    "    model.fit(x_poly, y_train)\n",
    "    y_poly_pred = model.predict(x_poly)\n",
    "    rmse = np.sqrt(mean_squared_error(y_train, y_poly_pred))\n",
    "    r2 = r2_score(y_train, y_poly_pred)\n",
    "    results.append(rmse)\n",
    "    names.append(deg)\n",
    "plt.plot(names, results, 'o')\n",
    "plt.suptitle('Algorithm Comparison')\n"
   ]
  },
  {
   "cell_type": "code",
   "execution_count": 37,
   "metadata": {},
   "outputs": [
    {
     "name": "stdout",
     "output_type": "stream",
     "text": [
      "Best for train 4\n"
     ]
    }
   ],
   "source": [
    "print('Best for train', names[[idx for idx, val in enumerate(results) if val == min(results)][0]])\n"
   ]
  },
  {
   "cell_type": "markdown",
   "metadata": {},
   "source": [
    "#### Check parameters on test data"
   ]
  },
  {
   "cell_type": "code",
   "execution_count": 38,
   "metadata": {},
   "outputs": [
    {
     "data": {
      "text/plain": [
       "Text(0.5, 0.98, 'Algorithm Comparison')"
      ]
     },
     "execution_count": 38,
     "metadata": {},
     "output_type": "execute_result"
    },
    {
     "data": {
      "image/png": "[encoded data removed]",
      "text/plain": [
       "<Figure size 432x288 with 1 Axes>"
      ]
     },
     "metadata": {
      "needs_background": "light"
     },
     "output_type": "display_data"
    }
   ],
   "source": [
    "params = np.arange(1, 11)\n",
    "results_test = []\n",
    "names_test = []\n",
    "for deg in params:\n",
    "    polynomial_features = PolynomialFeatures(degree=deg)\n",
    "    x_poly = polynomial_features.fit_transform(standardised_X_train)\n",
    "    model = LinearRegression()\n",
    "    model.fit(x_poly, y_train)\n",
    "    x_poly_test = polynomial_features.fit_transform(X_test)\n",
    "    y_poly_pred_test = model.predict(x_poly_test)\n",
    "    rmse = np.sqrt(mean_squared_error(y_test, y_poly_pred_test))\n",
    "    r2 = r2_score(y_test, y_poly_pred_test)\n",
    "    results_test.append(rmse)\n",
    "    names_test.append(deg)\n",
    "plt.plot(names_test, results_test, 'o')\n",
    "plt.suptitle('Algorithm Comparison')\n"
   ]
  },
  {
   "cell_type": "code",
   "execution_count": 39,
   "metadata": {},
   "outputs": [
    {
     "name": "stdout",
     "output_type": "stream",
     "text": [
      "Best for test 1\n"
     ]
    }
   ],
   "source": [
    "print('Best for test', names_test[[idx for idx, val in enumerate(results_test) if val == min(results_test)][0]])\n"
   ]
  },
  {
   "cell_type": "markdown",
   "metadata": {},
   "source": [
    "#### Final model"
   ]
  },
  {
   "cell_type": "code",
   "execution_count": 40,
   "metadata": {},
   "outputs": [
    {
     "name": "stdout",
     "output_type": "stream",
     "text": [
      "RMSE for Polynomial Regression Final: 8.235063079045336e+21\n"
     ]
    }
   ],
   "source": [
    "polynomial_features = PolynomialFeatures(degree=4)\n",
    "x_poly = polynomial_features.fit_transform(standardised_X_train)\n",
    "model = LinearRegression()\n",
    "model.fit(x_poly, y_train)\n",
    "x_poly_test = polynomial_features.fit_transform(X_test)\n",
    "y_poly_pred_test = model.predict(x_poly_test)\n",
    "rmse = np.sqrt(mean_squared_error(y_test, y_poly_pred_test))\n",
    "r2 = r2_score(y_test, y_poly_pred_test)\n",
    "print(\"RMSE for Polynomial Regression Final:\", rmse)\n"
   ]
  },
  {
   "cell_type": "code",
   "execution_count": null,
   "metadata": {},
   "outputs": [],
   "source": []
  }
 ],
 "metadata": {
  "interpreter": {
   "hash": "13e4bf8718393fa68b9eb0a9c0fc07f8623bd1e331a0a68151fde2760e95d853"
  },
  "kernelspec": {
   "display_name": "Python 3.9.7 ('CRYPTO')",
   "language": "python",
   "name": "python3"
  },
  "language_info": {
   "codemirror_mode": {
    "name": "ipython",
    "version": 3
   },
   "file_extension": ".py",
   "mimetype": "text/x-python",
   "name": "python",
   "nbconvert_exporter": "python",
   "pygments_lexer": "ipython3",
   "version": "3.9.7"
  },
  "orig_nbformat": 4
 },
 "nbformat": 4,
 "nbformat_minor": 2
}
