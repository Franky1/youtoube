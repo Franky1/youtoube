{
 "cells": [
  {
   "cell_type": "code",
   "execution_count": 68,
   "metadata": {},
   "outputs": [],
   "source": [
    "from dataset import Dataset"
   ]
  },
  {
   "cell_type": "markdown",
   "metadata": {},
   "source": [
    "#### DEFINE PARAMETERS"
   ]
  },
  {
   "cell_type": "code",
   "execution_count": 70,
   "metadata": {},
   "outputs": [],
   "source": [
    "TICKERS = ['BTCUSDT', 'ETHUSDT', 'LTCUSDT',\n",
    "           'BNBUSDT', 'ADAUSDT', 'XRPUSDT', 'DOTUSDT']\n",
    "DAYS = 30\n",
    "TIMEFRAME = '5m'\n",
    "SPLIT = 0.8"
   ]
  },
  {
   "cell_type": "markdown",
   "metadata": {},
   "source": [
    "#### Download Dataset"
   ]
  },
  {
   "cell_type": "code",
   "execution_count": 27,
   "metadata": {},
   "outputs": [],
   "source": [
    "dataset = Dataset().get_datas(days=DAYS, tickers=TICKERS, ts=TIMEFRAME)"
   ]
  },
  {
   "cell_type": "markdown",
   "metadata": {},
   "source": [
    "#### Check Dataset"
   ]
  },
  {
   "cell_type": "code",
   "execution_count": 45,
   "metadata": {},
   "outputs": [
    {
     "data": {
      "text/html": [
       "<div>\n",
       "<style scoped>\n",
       "    .dataframe tbody tr th:only-of-type {\n",
       "        vertical-align: middle;\n",
       "    }\n",
       "\n",
       "    .dataframe tbody tr th {\n",
       "        vertical-align: top;\n",
       "    }\n",
       "\n",
       "    .dataframe thead th {\n",
       "        text-align: right;\n",
       "    }\n",
       "</style>\n",
       "<table border=\"1\" class=\"dataframe\">\n",
       "  <thead>\n",
       "    <tr style=\"text-align: right;\">\n",
       "      <th></th>\n",
       "      <th></th>\n",
       "      <th>open</th>\n",
       "      <th>high</th>\n",
       "      <th>low</th>\n",
       "      <th>close</th>\n",
       "      <th>volume</th>\n",
       "      <th>symbol</th>\n",
       "      <th>dayOfYear</th>\n",
       "    </tr>\n",
       "    <tr>\n",
       "      <th>symbol</th>\n",
       "      <th>time</th>\n",
       "      <th></th>\n",
       "      <th></th>\n",
       "      <th></th>\n",
       "      <th></th>\n",
       "      <th></th>\n",
       "      <th></th>\n",
       "      <th></th>\n",
       "    </tr>\n",
       "  </thead>\n",
       "  <tbody>\n",
       "    <tr>\n",
       "      <th rowspan=\"2\" valign=\"top\">ADAUSDT</th>\n",
       "      <th>2022-04-19 07:20:00</th>\n",
       "      <td>0.9290</td>\n",
       "      <td>0.9300</td>\n",
       "      <td>0.9280</td>\n",
       "      <td>0.9290</td>\n",
       "      <td>6.586054e+05</td>\n",
       "      <td>ADAUSDT</td>\n",
       "      <td>109</td>\n",
       "    </tr>\n",
       "    <tr>\n",
       "      <th>2022-04-19 07:25:00</th>\n",
       "      <td>0.9280</td>\n",
       "      <td>0.9290</td>\n",
       "      <td>0.9270</td>\n",
       "      <td>0.9290</td>\n",
       "      <td>1.209391e+05</td>\n",
       "      <td>ADAUSDT</td>\n",
       "      <td>109</td>\n",
       "    </tr>\n",
       "    <tr>\n",
       "      <th rowspan=\"2\" valign=\"top\">BNBUSDT</th>\n",
       "      <th>2022-04-19 07:20:00</th>\n",
       "      <td>420.9000</td>\n",
       "      <td>421.0000</td>\n",
       "      <td>418.2000</td>\n",
       "      <td>418.9000</td>\n",
       "      <td>5.333802e+03</td>\n",
       "      <td>BNBUSDT</td>\n",
       "      <td>109</td>\n",
       "    </tr>\n",
       "    <tr>\n",
       "      <th>2022-04-19 07:25:00</th>\n",
       "      <td>418.9000</td>\n",
       "      <td>419.1000</td>\n",
       "      <td>418.4000</td>\n",
       "      <td>419.1000</td>\n",
       "      <td>1.262911e+03</td>\n",
       "      <td>BNBUSDT</td>\n",
       "      <td>109</td>\n",
       "    </tr>\n",
       "    <tr>\n",
       "      <th rowspan=\"2\" valign=\"top\">BTCUSDT</th>\n",
       "      <th>2022-04-19 07:20:00</th>\n",
       "      <td>40666.8500</td>\n",
       "      <td>40666.8600</td>\n",
       "      <td>40571.0000</td>\n",
       "      <td>40630.0100</td>\n",
       "      <td>2.095408e+02</td>\n",
       "      <td>BTCUSDT</td>\n",
       "      <td>109</td>\n",
       "    </tr>\n",
       "    <tr>\n",
       "      <th>2022-04-19 07:25:00</th>\n",
       "      <td>40630.0100</td>\n",
       "      <td>40630.0100</td>\n",
       "      <td>40598.1000</td>\n",
       "      <td>40629.7000</td>\n",
       "      <td>8.743117e+01</td>\n",
       "      <td>BTCUSDT</td>\n",
       "      <td>109</td>\n",
       "    </tr>\n",
       "    <tr>\n",
       "      <th rowspan=\"2\" valign=\"top\">DOTUSDT</th>\n",
       "      <th>2022-04-19 07:20:00</th>\n",
       "      <td>18.1400</td>\n",
       "      <td>18.1500</td>\n",
       "      <td>18.0800</td>\n",
       "      <td>18.1000</td>\n",
       "      <td>1.084790e+04</td>\n",
       "      <td>DOTUSDT</td>\n",
       "      <td>109</td>\n",
       "    </tr>\n",
       "    <tr>\n",
       "      <th>2022-04-19 07:25:00</th>\n",
       "      <td>18.0900</td>\n",
       "      <td>18.1200</td>\n",
       "      <td>18.0800</td>\n",
       "      <td>18.1200</td>\n",
       "      <td>3.130990e+03</td>\n",
       "      <td>DOTUSDT</td>\n",
       "      <td>109</td>\n",
       "    </tr>\n",
       "    <tr>\n",
       "      <th rowspan=\"2\" valign=\"top\">ETHUSDT</th>\n",
       "      <th>2022-04-19 07:20:00</th>\n",
       "      <td>3041.6300</td>\n",
       "      <td>3041.7600</td>\n",
       "      <td>3030.3400</td>\n",
       "      <td>3033.9700</td>\n",
       "      <td>2.500852e+03</td>\n",
       "      <td>ETHUSDT</td>\n",
       "      <td>109</td>\n",
       "    </tr>\n",
       "    <tr>\n",
       "      <th>2022-04-19 07:25:00</th>\n",
       "      <td>3033.9700</td>\n",
       "      <td>3035.2300</td>\n",
       "      <td>3032.7000</td>\n",
       "      <td>3034.0800</td>\n",
       "      <td>6.907925e+02</td>\n",
       "      <td>ETHUSDT</td>\n",
       "      <td>109</td>\n",
       "    </tr>\n",
       "    <tr>\n",
       "      <th rowspan=\"2\" valign=\"top\">LTCUSDT</th>\n",
       "      <th>2022-04-19 07:20:00</th>\n",
       "      <td>111.0000</td>\n",
       "      <td>111.1000</td>\n",
       "      <td>110.6000</td>\n",
       "      <td>110.7000</td>\n",
       "      <td>3.028465e+03</td>\n",
       "      <td>LTCUSDT</td>\n",
       "      <td>109</td>\n",
       "    </tr>\n",
       "    <tr>\n",
       "      <th>2022-04-19 07:25:00</th>\n",
       "      <td>110.7000</td>\n",
       "      <td>110.8000</td>\n",
       "      <td>110.6000</td>\n",
       "      <td>110.7000</td>\n",
       "      <td>2.670190e+02</td>\n",
       "      <td>LTCUSDT</td>\n",
       "      <td>109</td>\n",
       "    </tr>\n",
       "    <tr>\n",
       "      <th rowspan=\"2\" valign=\"top\">XRPUSDT</th>\n",
       "      <th>2022-04-19 07:20:00</th>\n",
       "      <td>0.7666</td>\n",
       "      <td>0.7666</td>\n",
       "      <td>0.7635</td>\n",
       "      <td>0.7636</td>\n",
       "      <td>1.724950e+06</td>\n",
       "      <td>XRPUSDT</td>\n",
       "      <td>109</td>\n",
       "    </tr>\n",
       "    <tr>\n",
       "      <th>2022-04-19 07:25:00</th>\n",
       "      <td>0.7635</td>\n",
       "      <td>0.7649</td>\n",
       "      <td>0.7635</td>\n",
       "      <td>0.7647</td>\n",
       "      <td>4.664260e+05</td>\n",
       "      <td>XRPUSDT</td>\n",
       "      <td>109</td>\n",
       "    </tr>\n",
       "  </tbody>\n",
       "</table>\n",
       "</div>"
      ],
      "text/plain": [
       "                                   open        high         low       close  \\\n",
       "symbol  time                                                                  \n",
       "ADAUSDT 2022-04-19 07:20:00      0.9290      0.9300      0.9280      0.9290   \n",
       "        2022-04-19 07:25:00      0.9280      0.9290      0.9270      0.9290   \n",
       "BNBUSDT 2022-04-19 07:20:00    420.9000    421.0000    418.2000    418.9000   \n",
       "        2022-04-19 07:25:00    418.9000    419.1000    418.4000    419.1000   \n",
       "BTCUSDT 2022-04-19 07:20:00  40666.8500  40666.8600  40571.0000  40630.0100   \n",
       "        2022-04-19 07:25:00  40630.0100  40630.0100  40598.1000  40629.7000   \n",
       "DOTUSDT 2022-04-19 07:20:00     18.1400     18.1500     18.0800     18.1000   \n",
       "        2022-04-19 07:25:00     18.0900     18.1200     18.0800     18.1200   \n",
       "ETHUSDT 2022-04-19 07:20:00   3041.6300   3041.7600   3030.3400   3033.9700   \n",
       "        2022-04-19 07:25:00   3033.9700   3035.2300   3032.7000   3034.0800   \n",
       "LTCUSDT 2022-04-19 07:20:00    111.0000    111.1000    110.6000    110.7000   \n",
       "        2022-04-19 07:25:00    110.7000    110.8000    110.6000    110.7000   \n",
       "XRPUSDT 2022-04-19 07:20:00      0.7666      0.7666      0.7635      0.7636   \n",
       "        2022-04-19 07:25:00      0.7635      0.7649      0.7635      0.7647   \n",
       "\n",
       "                                   volume   symbol  dayOfYear  \n",
       "symbol  time                                                   \n",
       "ADAUSDT 2022-04-19 07:20:00  6.586054e+05  ADAUSDT        109  \n",
       "        2022-04-19 07:25:00  1.209391e+05  ADAUSDT        109  \n",
       "BNBUSDT 2022-04-19 07:20:00  5.333802e+03  BNBUSDT        109  \n",
       "        2022-04-19 07:25:00  1.262911e+03  BNBUSDT        109  \n",
       "BTCUSDT 2022-04-19 07:20:00  2.095408e+02  BTCUSDT        109  \n",
       "        2022-04-19 07:25:00  8.743117e+01  BTCUSDT        109  \n",
       "DOTUSDT 2022-04-19 07:20:00  1.084790e+04  DOTUSDT        109  \n",
       "        2022-04-19 07:25:00  3.130990e+03  DOTUSDT        109  \n",
       "ETHUSDT 2022-04-19 07:20:00  2.500852e+03  ETHUSDT        109  \n",
       "        2022-04-19 07:25:00  6.907925e+02  ETHUSDT        109  \n",
       "LTCUSDT 2022-04-19 07:20:00  3.028465e+03  LTCUSDT        109  \n",
       "        2022-04-19 07:25:00  2.670190e+02  LTCUSDT        109  \n",
       "XRPUSDT 2022-04-19 07:20:00  1.724950e+06  XRPUSDT        109  \n",
       "        2022-04-19 07:25:00  4.664260e+05  XRPUSDT        109  "
      ]
     },
     "execution_count": 45,
     "metadata": {},
     "output_type": "execute_result"
    }
   ],
   "source": [
    "data = dataset.copy()\n",
    "data['dayOfYear'] = data.index.dayofyear\n",
    "data.groupby('symbol')\\\n",
    "    .apply(lambda x: x.tail(2))"
   ]
  },
  {
   "cell_type": "markdown",
   "metadata": {},
   "source": [
    "#### Processing Dataset"
   ]
  },
  {
   "cell_type": "code",
   "execution_count": 72,
   "metadata": {},
   "outputs": [
    {
     "name": "stdout",
     "output_type": "stream",
     "text": [
      "                           open       high         low       close  \\\n",
      "time                                                                 \n",
      "2022-03-20 00:05:00      0.9020      0.908      0.9010      0.9060   \n",
      "2022-03-20 00:05:00    399.9000    400.100    399.3000    400.0000   \n",
      "2022-03-20 00:05:00  42201.1300  42246.280  42172.1500  42227.7100   \n",
      "2022-03-20 00:05:00     19.4000     19.440     19.3600     19.4300   \n",
      "2022-03-20 00:05:00   2950.8500   2959.290   2949.1000   2957.3800   \n",
      "2022-03-20 00:05:00    116.8000    117.500    116.7000    117.3000   \n",
      "2022-03-20 00:05:00      0.8195      0.822      0.8186      0.8203   \n",
      "\n",
      "                           volume   symbol  dayOfYear      target  \n",
      "time                                                               \n",
      "2022-03-20 00:05:00  783664.00000  ADAUSDT         79      0.9060  \n",
      "2022-03-20 00:05:00    2993.00400  BNBUSDT         79    400.1000  \n",
      "2022-03-20 00:05:00     103.34117  BTCUSDT         79  42214.7100  \n",
      "2022-03-20 00:05:00   13952.66000  DOTUSDT         79     19.4000  \n",
      "2022-03-20 00:05:00    1291.40810  ETHUSDT         79   2955.4500  \n",
      "2022-03-20 00:05:00    4149.49900  LTCUSDT         79    117.6000  \n",
      "2022-03-20 00:05:00  845877.00000  XRPUSDT         79      0.8189  \n"
     ]
    }
   ],
   "source": [
    "df = data.groupby('symbol')\\\n",
    "    .apply(lambda x: x)\\\n",
    "    .assign(target=lambda x: x['close'].shift(-1))\\\n",
    "    .groupby('dayOfYear')\\\n",
    "    .apply(lambda x: x)\\\n",
    "    .dropna()\n",
    "print(df.head(len(TICKERS)))"
   ]
  },
  {
   "cell_type": "markdown",
   "metadata": {},
   "source": [
    "### Split Dataset on train and test data"
   ]
  },
  {
   "cell_type": "code",
   "execution_count": 76,
   "metadata": {},
   "outputs": [],
   "source": [
    "\n",
    "unique_days = df.dayOfYear.unique()\n",
    "train_days = unique_days[:int(len(unique_days) * SPLIT)]\n",
    "test_days = unique_days[int(len(unique_days) * SPLIT):]\n",
    "train = df[df.dayOfYear.isin(train_days)]\n",
    "test = df[df.dayOfYear.isin(test_days)]"
   ]
  },
  {
   "cell_type": "code",
   "execution_count": 77,
   "metadata": {},
   "outputs": [
    {
     "name": "stdout",
     "output_type": "stream",
     "text": [
      "train days: (48377, 5)\n",
      "test days: (12725, 5)\n"
     ]
    }
   ],
   "source": [
    "X_train = train.drop(['target', 'dayOfYear', 'symbol'], axis=1)\n",
    "y_train = train['target']\n",
    "X_test = test.drop(['target', 'dayOfYear', 'symbol'], axis=1)\n",
    "y_test = test['target']\n",
    "print('train days:', X_train.values.shape)\n",
    "print('test days:', X_test.values.shape)"
   ]
  },
  {
   "cell_type": "code",
   "execution_count": null,
   "metadata": {},
   "outputs": [],
   "source": []
  }
 ],
 "metadata": {
  "interpreter": {
   "hash": "13e4bf8718393fa68b9eb0a9c0fc07f8623bd1e331a0a68151fde2760e95d853"
  },
  "kernelspec": {
   "display_name": "Python 3.9.7 ('CRYPTO')",
   "language": "python",
   "name": "python3"
  },
  "language_info": {
   "codemirror_mode": {
    "name": "ipython",
    "version": 3
   },
   "file_extension": ".py",
   "mimetype": "text/x-python",
   "name": "python",
   "nbconvert_exporter": "python",
   "pygments_lexer": "ipython3",
   "version": "3.9.7"
  },
  "orig_nbformat": 4
 },
 "nbformat": 4,
 "nbformat_minor": 2
}
